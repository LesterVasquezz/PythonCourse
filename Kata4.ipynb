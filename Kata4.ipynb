{
 "cells": [
  {
   "cell_type": "markdown",
   "id": "1cdd1573",
   "metadata": {},
   "source": [
    "# Ejercicio 1: Transformar cadenas "
   ]
  },
  {
   "cell_type": "markdown",
   "id": "048d588d",
   "metadata": {},
   "source": [
    "En este ejercicio, se utilizarán métodos para modificar un texto con hechos sobre la Luna y luego se extraerá información para crear un resumen. "
   ]
  },
  {
   "cell_type": "markdown",
   "id": "cf398f77",
   "metadata": {},
   "source": [
    "El texto es el siguiente: "
   ]
  },
  {
   "cell_type": "code",
   "execution_count": 1,
   "id": "dc8a75e6",
   "metadata": {},
   "outputs": [],
   "source": [
    "text = \"\"\"Interesting facts about the Moon. The Moon is Earth's only satellite. There are several interesting facts about the Moon and how it affects life here on Earth. \n",
    "On average, the Moon moves 4 cm away from the Earth every year. This yearly drift is not significant enough to cause immediate effects on Earth. The highest daylight temperature of the Moon is 127 C.\"\"\"\n"
   ]
  },
  {
   "cell_type": "markdown",
   "id": "0f7dac24",
   "metadata": {},
   "source": [
    "1. Dividimos el texto en cada oración."
   ]
  },
  {
   "cell_type": "code",
   "execution_count": 2,
   "id": "a5983128",
   "metadata": {},
   "outputs": [
    {
     "name": "stdout",
     "output_type": "stream",
     "text": [
      "Interesting facts about the Moon\n",
      " The Moon is Earth's only satellite\n",
      " There are several interesting facts about the Moon and how it affects life here on Earth\n",
      " \n",
      "On average, the Moon moves 4 cm away from the Earth every year\n",
      " This yearly drift is not significant enough to cause immediate effects on Earth\n",
      " The highest daylight temperature of the Moon is 127 C\n",
      "\n"
     ]
    }
   ],
   "source": [
    "# notamos que las oraciones terminan en punto. Hacemos un split \n",
    "\n",
    "oraciones = text.split(\".\") #ahora tenemos una lista de oraciones\n",
    "\n",
    "for item in oraciones:\n",
    "    print(item)"
   ]
  },
  {
   "cell_type": "markdown",
   "id": "019e4da1",
   "metadata": {},
   "source": [
    "2. Ahora, definimos palabras clave que nos ayudaran a determinar si una oración contiene un hecho. Ejemplo de palabras de hechos: \n",
    "- average\n",
    "- temperature\n",
    "- distance"
   ]
  },
  {
   "cell_type": "code",
   "execution_count": 3,
   "id": "ce28c90b",
   "metadata": {},
   "outputs": [],
   "source": [
    "# Declaramos variables\n",
    "\n",
    "palabrasClave = [\"average\",\"temperature\", \"distance\"]\n",
    "        \n",
    "        "
   ]
  },
  {
   "cell_type": "markdown",
   "id": "329b322b",
   "metadata": {},
   "source": [
    "3. Creamos un bucle para imprimir solo los datos sobre la luna que esten relacionados con las palbras clave definidas anteriormente "
   ]
  },
  {
   "cell_type": "code",
   "execution_count": 4,
   "id": "f2dc3641",
   "metadata": {},
   "outputs": [
    {
     "name": "stdout",
     "output_type": "stream",
     "text": [
      "average: 4 cm \n",
      "temperature: 127 C\n"
     ]
    }
   ],
   "source": [
    "# este codigo solo imprime los datos, y no la oracion completa \n",
    "\n",
    "for palabra in palabrasClave: \n",
    "    for oracion in oraciones: \n",
    "        if palabra in oracion.lower(): #buscamos la palabra clave en la oracion\n",
    "            desOraciones = oracion.split()  #separamos las palabras de la oracion\n",
    "            for word in desOraciones:  \n",
    "                if word.isnumeric(): # buscamos datos numericos\n",
    "                    indice = oracion.find(word)\n",
    "                    print (f'{palabra}: {oracion[indice:indice+5]}') #imprimimos la palabra clave y el valor numerico \n",
    "            "
   ]
  },
  {
   "cell_type": "code",
   "execution_count": 5,
   "id": "3445e050",
   "metadata": {},
   "outputs": [
    {
     "name": "stdout",
     "output_type": "stream",
     "text": [
      " \n",
      "On average, the Moon moves 4 cm away from the Earth every year\n",
      " The highest daylight temperature of the Moon is 127 C\n"
     ]
    }
   ],
   "source": [
    "# este codigo imprime la oracion completa que contenga las palabras clave \n",
    "\n",
    "for palabra in palabrasClave: \n",
    "    for oracion in oraciones: \n",
    "        if palabra in oracion.lower(): #buscamos la palabra clave en la oracion\n",
    "            print(oracion)"
   ]
  },
  {
   "cell_type": "markdown",
   "id": "1b3b904a",
   "metadata": {},
   "source": [
    "4. Finalmente, cambiamos la letra C por la palabra Celsius "
   ]
  },
  {
   "cell_type": "code",
   "execution_count": 6,
   "id": "aed1ce01",
   "metadata": {},
   "outputs": [
    {
     "name": "stdout",
     "output_type": "stream",
     "text": [
      " \n",
      "On average, the Moon moves 4 cm away from the Earth every year\n",
      " The highest daylight temperature of the Moon is 127 Celsius\n"
     ]
    }
   ],
   "source": [
    "for palabra in palabrasClave: \n",
    "    for oracion in oraciones: \n",
    "        if palabra in oracion.lower(): #buscamos la palabra clave en la oracion\n",
    "            print(oracion.replace(\"C\",\"Celsius\"))"
   ]
  },
  {
   "cell_type": "markdown",
   "id": "7617047b",
   "metadata": {},
   "source": []
  },
  {
   "cell_type": "markdown",
   "id": "48cf19de",
   "metadata": {},
   "source": [
    "# Ejercicio 2: Formateando Cadenas "
   ]
  },
  {
   "cell_type": "markdown",
   "id": "5fe3c834",
   "metadata": {},
   "source": [
    " En este ejercicio, se utilizan variables que contienen datos clave sobre la gravedad en varias lunas y luego se utilizan para dar formato e imprimir la información.\n",
    "\n",
    "El formato tiene que acomodar información sobre otras lunas, por lo que debe ser genérico.\n",
    "\n",
    "En lugar de reemplazar las variables en una cadena larga como parte de un párrafo, utiliza la información para presentarla en un formato tabular. El resultado debería verse así:\n",
    "\n",
    "```\n",
    "Gravity Facts about Ganymede\n",
    "-------------------------------------------------------------------------------\n",
    "\n",
    "Planet Name: Mars\n",
    "Gravity on Ganymede: 1.4300000000000002 m/s2\n",
    "```"
   ]
  },
  {
   "cell_type": "code",
   "execution_count": 7,
   "id": "0da4cf08",
   "metadata": {},
   "outputs": [],
   "source": [
    "# Datos con los que se va a trabajar\n",
    "nombre = \"Luna\"\n",
    "gravedad = 0.00162 # in km/s\n",
    "planeta = \"Tierra\""
   ]
  },
  {
   "cell_type": "markdown",
   "id": "a0f32575",
   "metadata": {},
   "source": [
    "1. Creamos un titulo para el texto "
   ]
  },
  {
   "cell_type": "code",
   "execution_count": 10,
   "id": "dda930d0",
   "metadata": {},
   "outputs": [
    {
     "name": "stdout",
     "output_type": "stream",
     "text": [
      "Factores de gravedad sobre la Luna\n"
     ]
    }
   ],
   "source": [
    "titulo = f'Factores de gravedad sobre la {nombre}'\n",
    "print(titulo)"
   ]
  },
  {
   "cell_type": "markdown",
   "id": "c93085b0",
   "metadata": {},
   "source": [
    "2. Ahora creamos una cadena multilinea con el resto de la informacion "
   ]
  },
  {
   "cell_type": "code",
   "execution_count": 11,
   "id": "bd766b26",
   "metadata": {},
   "outputs": [
    {
     "name": "stdout",
     "output_type": "stream",
     "text": [
      "------------------------------------------------\n",
      "Nombre del planeta: Tierra\n",
      "Gravedad en Luna:1.6199999999999999 m/s2 \n"
     ]
    }
   ],
   "source": [
    "informacion = \"\"\"------------------------------------------------\n",
    "... Nombre del planeta: {0}\n",
    "... Gravedad en {1}:{2} m/s2 \"\"\".format(planeta,nombre,gravedad*1000)\n",
    "\n",
    "print(informacion)"
   ]
  },
  {
   "cell_type": "markdown",
   "id": "08e245e8",
   "metadata": {},
   "source": [
    "3. Ahora uniremos el titulo con la informacion "
   ]
  },
  {
   "cell_type": "code",
   "execution_count": 12,
   "id": "21844b18",
   "metadata": {},
   "outputs": [
    {
     "name": "stdout",
     "output_type": "stream",
     "text": [
      "Factores de gravedad sobre la Luna\n",
      "------------------------------------------------\n",
      "Nombre del planeta: Tierra\n",
      "Gravedad en Luna:1.6199999999999999 m/s2 \n"
     ]
    }
   ],
   "source": [
    "parrafo = titulo +\"\\n\" +informacion\n",
    "print (parrafo)"
   ]
  },
  {
   "cell_type": "markdown",
   "id": "6928935d",
   "metadata": {},
   "source": [
    "Ahora usa información de una luna diferente para ver si la plantilla todavía funciona.\n",
    "\n",
    "Datos muestra:\n",
    "```\n",
    "planeta = 'Marte '\n",
    "gravedad  = 0.00143\n",
    "nombre = 'Ganímedes'\n",
    "\n",
    "```"
   ]
  },
  {
   "cell_type": "code",
   "execution_count": 13,
   "id": "9c69730f",
   "metadata": {},
   "outputs": [
    {
     "name": "stdout",
     "output_type": "stream",
     "text": [
      "Factores de gravedad sobre la Ganímedes\n",
      "------------------------------------------------\n",
      "... Nombre del planeta: Marte \n",
      "... Gravedad en Ganímedes:1.4300000000000002 m/s2 \n"
     ]
    }
   ],
   "source": [
    "planeta = 'Marte '\n",
    "gravedad  = 0.00143\n",
    "nombre = 'Ganímedes'\n",
    "\n",
    "titulo = f'Factores de gravedad sobre la {nombre}'\n",
    "\n",
    "informacion = \"\"\"------------------------------------------------\n",
    "... Nombre del planeta: {0}\n",
    "... Gravedad en {1}:{2} m/s2 \"\"\".format(planeta,nombre,gravedad*1000)\n",
    "\n",
    "parrafo = titulo +\"\\n\" +informacion\n",
    "print (parrafo)"
   ]
  },
  {
   "cell_type": "code",
   "execution_count": null,
   "id": "484e52ad",
   "metadata": {},
   "outputs": [],
   "source": []
  }
 ],
 "metadata": {
  "kernelspec": {
   "display_name": "Python 3 (ipykernel)",
   "language": "python",
   "name": "python3"
  },
  "language_info": {
   "codemirror_mode": {
    "name": "ipython",
    "version": 3
   },
   "file_extension": ".py",
   "mimetype": "text/x-python",
   "name": "python",
   "nbconvert_exporter": "python",
   "pygments_lexer": "ipython3",
   "version": "3.10.2"
  }
 },
 "nbformat": 4,
 "nbformat_minor": 5
}
