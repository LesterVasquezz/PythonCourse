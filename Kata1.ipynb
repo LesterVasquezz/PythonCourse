{
 "cells": [
  {
   "cell_type": "markdown",
   "id": "c4fb7afc",
   "metadata": {},
   "source": [
    "# Tu primer programa "
   ]
  },
  {
   "cell_type": "markdown",
   "id": "e1d7bd79",
   "metadata": {},
   "source": [
    "Programa que imprima el dia actual. Se utilizará la biblioteca **datetime**"
   ]
  },
  {
   "cell_type": "code",
   "execution_count": 12,
   "id": "466f9a83",
   "metadata": {},
   "outputs": [
    {
     "name": "stdout",
     "output_type": "stream",
     "text": [
      "2022-02-08\n"
     ]
    }
   ],
   "source": [
    "from datetime import date #del modulo datetime importamos date \n",
    "\n",
    "dia = date.today() #objeto del dia contiene la fecha actual (el objeto pertenece a la clase date)\n",
    "\n",
    "print(str(dia)) #hacemos un casteo a string para que se pueda mostrar con print\n",
    "\n"
   ]
  },
  {
   "cell_type": "markdown",
   "id": "013d017b",
   "metadata": {},
   "source": [
    "# Construir un convertidor de unidades "
   ]
  },
  {
   "cell_type": "markdown",
   "id": "dd6c0155",
   "metadata": {},
   "source": [
    "Programa de conversión entre parsecs y años luz "
   ]
  },
  {
   "cell_type": "code",
   "execution_count": 18,
   "id": "08882d51",
   "metadata": {},
   "outputs": [
    {
     "name": "stdout",
     "output_type": "stream",
     "text": [
      "11 parsec, is: 35.877159999999996 lightyears\n"
     ]
    }
   ],
   "source": [
    "parsec = 11\n",
    "\n",
    "lightyears = parsec * 3.26156\n",
    "\n",
    "\n",
    "print(str(parsec) + \" parsec, is: \" +  str(lightyears) + \" lightyears\") # usamos el signo \"+\" para concatenar"
   ]
  }
 ],
 "metadata": {
  "kernelspec": {
   "display_name": "Python 3 (ipykernel)",
   "language": "python",
   "name": "python3"
  },
  "language_info": {
   "codemirror_mode": {
    "name": "ipython",
    "version": 3
   },
   "file_extension": ".py",
   "mimetype": "text/x-python",
   "name": "python",
   "nbconvert_exporter": "python",
   "pygments_lexer": "ipython3",
   "version": "3.10.2"
  }
 },
 "nbformat": 4,
 "nbformat_minor": 5
}
