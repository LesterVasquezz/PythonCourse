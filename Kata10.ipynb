{
 "cells": [
  {
   "cell_type": "markdown",
   "id": "5fbe142c",
   "metadata": {},
   "source": [
    "# Ejercicios sobre Tracebacks "
   ]
  },
  {
   "cell_type": "markdown",
   "id": "4f4ac2c9",
   "metadata": {},
   "source": [
    "1. Analizamos un traceback generado al no encontrar un archivo dentro de un script"
   ]
  },
  {
   "cell_type": "code",
   "execution_count": 1,
   "id": "81120e00",
   "metadata": {},
   "outputs": [
    {
     "ename": "FileNotFoundError",
     "evalue": "[Errno 2] No such file or directory: '/path/to/mars.jpg'",
     "output_type": "error",
     "traceback": [
      "\u001b[0;31m---------------------------------------------------------------------------\u001b[0m",
      "\u001b[0;31mFileNotFoundError\u001b[0m                         Traceback (most recent call last)",
      "Input \u001b[0;32mIn [1]\u001b[0m, in \u001b[0;36m<module>\u001b[0;34m\u001b[0m\n\u001b[0;32m----> 1\u001b[0m \u001b[38;5;28;43mopen\u001b[39;49m\u001b[43m(\u001b[49m\u001b[38;5;124;43m\"\u001b[39;49m\u001b[38;5;124;43m/path/to/mars.jpg\u001b[39;49m\u001b[38;5;124;43m\"\u001b[39;49m\u001b[43m)\u001b[49m\n",
      "\u001b[0;31mFileNotFoundError\u001b[0m: [Errno 2] No such file or directory: '/path/to/mars.jpg'"
     ]
    }
   ],
   "source": [
    "open(\"/path/to/mars.jpg\")"
   ]
  },
  {
   "cell_type": "markdown",
   "id": "ac77af30",
   "metadata": {},
   "source": [
    "   - Nos arroja un error tipo `FileNotFoundError`"
   ]
  },
  {
   "cell_type": "markdown",
   "id": "a7f6f366",
   "metadata": {},
   "source": [
    "2. Ahora probemos el mismo error pero cuando se llama al script en particular "
   ]
  },
  {
   "cell_type": "markdown",
   "id": "4314a407",
   "metadata": {},
   "source": [
    "![](img/err01.png)\n"
   ]
  },
  {
   "cell_type": "markdown",
   "id": "a99d513c",
   "metadata": {},
   "source": [
    "- Ahora notamos que las rutas de acceso apuntan al archivo open.py. Nos indica la linea en que se llama a la función (linea 8) y despues nos dice en qué linea del método invocado se generó el error (linea 5). Finalmente nos dice el tipo de error arrojado"
   ]
  },
  {
   "cell_type": "markdown",
   "id": "142242ed",
   "metadata": {},
   "source": [
    "# Controlando las excepciones "
   ]
  },
  {
   "cell_type": "markdown",
   "id": "95899d62",
   "metadata": {},
   "source": [
    "### Try y Except de los bloques\n",
    "Si queremos controlar excepciones podemos utilizar los bloques `try` y `except`\n",
    "1. Intentaremos abrir un archivo que no existe y manejaremos esta excepción"
   ]
  },
  {
   "cell_type": "code",
   "execution_count": 4,
   "id": "f3554e1e",
   "metadata": {},
   "outputs": [
    {
     "name": "stdout",
     "output_type": "stream",
     "text": [
      "No es posible encontrar el archivo config.txt\n"
     ]
    }
   ],
   "source": [
    "try: \n",
    "    open('config.txt') #hacemos el intento\n",
    "    \n",
    "except FileNotFoundError: #en caso de no encontrarlo\n",
    "    print (\"No es posible encontrar el archivo config.txt\")"
   ]
  },
  {
   "cell_type": "markdown",
   "id": "ade388cd",
   "metadata": {},
   "source": [
    "- Observamos que en vez de arrojarnos un traceback, nos devuelve el mensaje que establecimos "
   ]
  },
  {
   "cell_type": "markdown",
   "id": "cd27b6de",
   "metadata": {},
   "source": [
    "2. Ahora creamos un archivo config.py que abra un archivo llamado config.txt. Tambien creamos un directorio llamado config.txt. Ejecutamos el archivo config.py desde la terminal"
   ]
  },
  {
   "cell_type": "markdown",
   "id": "b626a96e",
   "metadata": {},
   "source": [
    "![](img/err02.png)"
   ]
  },
  {
   "cell_type": "markdown",
   "id": "9f9752c5",
   "metadata": {},
   "source": [
    "- Notamos que el error es distinto al `FileNotFoundError`"
   ]
  },
  {
   "cell_type": "markdown",
   "id": "06db2885",
   "metadata": {},
   "source": [
    "3. Cambiamos el contenido del archivo config.py por el siguiente código \n",
    "\n",
    "```\n",
    "def main():\n",
    "    try:\n",
    "        configuration = open('config.txt')\n",
    "    except Exception:\n",
    "        print(\"\"No es posible encontrar el archivo config.txt\"\")\n",
    "        \n",
    "if __name__ == '__main__':\n",
    "    main()\n",
    "\n",
    "```\n",
    "\n",
    "Y obtenemos lo siguiente:"
   ]
  },
  {
   "cell_type": "markdown",
   "id": "1edb81e2",
   "metadata": {},
   "source": [
    "![](img/err03.png)"
   ]
  },
  {
   "cell_type": "markdown",
   "id": "8766e067",
   "metadata": {},
   "source": [
    "- Vemos que ahora nos devuelve un mensaje establecido, pero, el mensaje es incorrecto, ya que en el paso anterior notamos que se trata de un error `isADirectoryError` y no de un `FileNotFoundError`"
   ]
  },
  {
   "cell_type": "markdown",
   "id": "9c03ce15",
   "metadata": {},
   "source": [
    "4. Agregamos los errores `isADirectoryError` y `FileNotFoundError` a nuestras excepciones del código en el archivo config.py. Obtenemos la siguiente salida:"
   ]
  },
  {
   "cell_type": "markdown",
   "id": "6afa654e",
   "metadata": {},
   "source": [
    "![](img/err04.png)"
   ]
  },
  {
   "cell_type": "markdown",
   "id": "66294f83",
   "metadata": {},
   "source": [
    "5. Eliminamos el directorio config.txt, ejecutamos el archivo config.py y observamos la siguiente salida"
   ]
  },
  {
   "cell_type": "markdown",
   "id": "276bc1c2",
   "metadata": {},
   "source": [
    "![](img/err03.png)"
   ]
  },
  {
   "cell_type": "markdown",
   "id": "02547638",
   "metadata": {},
   "source": [
    "6. Podemos acceder al error mediante un alias, esto es útil si la excepción es demasiado genérica."
   ]
  },
  {
   "cell_type": "code",
   "execution_count": 6,
   "id": "13f362a7",
   "metadata": {},
   "outputs": [
    {
     "name": "stdout",
     "output_type": "stream",
     "text": [
      "Ocurrió un error al intentar leer el archivo: [Errno 2] No such file or directory: 'mars.jpg'\n"
     ]
    }
   ],
   "source": [
    "try:\n",
    "    open(\"mars.jpg\")\n",
    "except FileNotFoundError as error:\n",
    "    print(\"Ocurrió un error al intentar leer el archivo:\", error)\n"
   ]
  },
  {
   "cell_type": "markdown",
   "id": "49658366",
   "metadata": {},
   "source": [
    "7. También es posible acceder a los atributos del error mediante el alias."
   ]
  },
  {
   "cell_type": "code",
   "execution_count": 8,
   "id": "557c5e1b",
   "metadata": {},
   "outputs": [
    {
     "name": "stdout",
     "output_type": "stream",
     "text": [
      "No pudimos encontrar el archivo\n"
     ]
    }
   ],
   "source": [
    "try:\n",
    "    open(\"config.txt\")\n",
    "except OSError as error:\n",
    "    if error.errno == 2:\n",
    "        print(\"No pudimos encontrar el archivo\")\n",
    "    elif error.errno == 13:\n",
    "        print(\"No es posible leer archivo\")\n"
   ]
  },
  {
   "cell_type": "markdown",
   "id": "d705bf43",
   "metadata": {},
   "source": [
    "# Generación de excepciones "
   ]
  },
  {
   "cell_type": "markdown",
   "id": "025777b1",
   "metadata": {},
   "source": [
    "1. Creamos una función que, con base al número de astronautas, pueda calcular la cantidad de agua que quedará después de un dia o más."
   ]
  },
  {
   "cell_type": "code",
   "execution_count": 11,
   "id": "8b596d85",
   "metadata": {},
   "outputs": [],
   "source": [
    "def agua_restante(astronautas, aguaRestante, diasRestantes):\n",
    "    usoDiario = astronautas * 11\n",
    "    usoTotal = usoDiario * diasRestantes\n",
    "    totalAgua = aguaRestante - usoTotal\n",
    "    \n",
    "    return f'El agua restante despues de {diasRestantes} dias es de {totalAgua} litros'"
   ]
  },
  {
   "cell_type": "markdown",
   "id": "b2d9ddbf",
   "metadata": {},
   "source": [
    "2. Ponemos a prueba nuestra función "
   ]
  },
  {
   "cell_type": "code",
   "execution_count": 12,
   "id": "2154f43b",
   "metadata": {},
   "outputs": [
    {
     "data": {
      "text/plain": [
       "'El agua restante despues de 2 dias es de -10 litros'"
      ]
     },
     "execution_count": 12,
     "metadata": {},
     "output_type": "execute_result"
    }
   ],
   "source": [
    "agua_restante(5, 100, 2)"
   ]
  },
  {
   "cell_type": "markdown",
   "id": "49e47588",
   "metadata": {},
   "source": [
    "- Un nivel de agua negativo no seria util, por lo que debemos generar una excepción que nos avise de esta carencia"
   ]
  },
  {
   "cell_type": "markdown",
   "id": "b674d851",
   "metadata": {},
   "source": [
    "3. Utilizamos el comando `raise` para generar un error "
   ]
  },
  {
   "cell_type": "code",
   "execution_count": 16,
   "id": "ba8b9583",
   "metadata": {},
   "outputs": [],
   "source": [
    "def agua_restante(astronautas, aguaRestante, diasRestantes):\n",
    "    usoDiario = astronautas * 11\n",
    "    usoTotal = usoDiario * diasRestantes\n",
    "    totalAgua = aguaRestante - usoTotal\n",
    "    if totalAgua < 0:\n",
    "        raise RuntimeError(f'No hay agua suficiente para {astronautas} astronautas después de {diasRestantes} dias')\n",
    "    return f'El agua restante despues de {diasRestantes} dias es de {totalAgua} litros'\n"
   ]
  },
  {
   "cell_type": "markdown",
   "id": "e98d5b51",
   "metadata": {},
   "source": [
    "4. Volvemos a poner a prueba la función "
   ]
  },
  {
   "cell_type": "code",
   "execution_count": 17,
   "id": "0980512f",
   "metadata": {},
   "outputs": [
    {
     "ename": "RuntimeError",
     "evalue": "No hay agua suficiente para 5 astronautas después de 2 dias",
     "output_type": "error",
     "traceback": [
      "\u001b[0;31m---------------------------------------------------------------------------\u001b[0m",
      "\u001b[0;31mRuntimeError\u001b[0m                              Traceback (most recent call last)",
      "Input \u001b[0;32mIn [17]\u001b[0m, in \u001b[0;36m<module>\u001b[0;34m\u001b[0m\n\u001b[0;32m----> 1\u001b[0m \u001b[43magua_restante\u001b[49m\u001b[43m(\u001b[49m\u001b[38;5;241;43m5\u001b[39;49m\u001b[43m,\u001b[49m\u001b[43m \u001b[49m\u001b[38;5;241;43m100\u001b[39;49m\u001b[43m,\u001b[49m\u001b[43m \u001b[49m\u001b[38;5;241;43m2\u001b[39;49m\u001b[43m)\u001b[49m\n",
      "Input \u001b[0;32mIn [16]\u001b[0m, in \u001b[0;36magua_restante\u001b[0;34m(astronautas, aguaRestante, diasRestantes)\u001b[0m\n\u001b[1;32m      4\u001b[0m totalAgua \u001b[38;5;241m=\u001b[39m aguaRestante \u001b[38;5;241m-\u001b[39m usoTotal\n\u001b[1;32m      5\u001b[0m \u001b[38;5;28;01mif\u001b[39;00m totalAgua \u001b[38;5;241m<\u001b[39m \u001b[38;5;241m0\u001b[39m:\n\u001b[0;32m----> 6\u001b[0m     \u001b[38;5;28;01mraise\u001b[39;00m \u001b[38;5;167;01mRuntimeError\u001b[39;00m(\u001b[38;5;124mf\u001b[39m\u001b[38;5;124m'\u001b[39m\u001b[38;5;124mNo hay agua suficiente para \u001b[39m\u001b[38;5;132;01m{\u001b[39;00mastronautas\u001b[38;5;132;01m}\u001b[39;00m\u001b[38;5;124m astronautas después de \u001b[39m\u001b[38;5;132;01m{\u001b[39;00mdiasRestantes\u001b[38;5;132;01m}\u001b[39;00m\u001b[38;5;124m dias\u001b[39m\u001b[38;5;124m'\u001b[39m)\n\u001b[1;32m      7\u001b[0m \u001b[38;5;28;01mreturn\u001b[39;00m \u001b[38;5;124mf\u001b[39m\u001b[38;5;124m'\u001b[39m\u001b[38;5;124mEl agua restante despues de \u001b[39m\u001b[38;5;132;01m{\u001b[39;00mdiasRestantes\u001b[38;5;132;01m}\u001b[39;00m\u001b[38;5;124m dias es de \u001b[39m\u001b[38;5;132;01m{\u001b[39;00mtotalAgua\u001b[38;5;132;01m}\u001b[39;00m\u001b[38;5;124m litros\u001b[39m\u001b[38;5;124m'\u001b[39m\n",
      "\u001b[0;31mRuntimeError\u001b[0m: No hay agua suficiente para 5 astronautas después de 2 dias"
     ]
    }
   ],
   "source": [
    "agua_restante(5, 100, 2)"
   ]
  },
  {
   "cell_type": "markdown",
   "id": "3004d45b",
   "metadata": {},
   "source": [
    "- Ahora que nuestro error fue creado, podemos añadir excepciones "
   ]
  },
  {
   "cell_type": "markdown",
   "id": "e0fd7b8d",
   "metadata": {},
   "source": [
    "5. Usamos bloques `try` y `except`"
   ]
  },
  {
   "cell_type": "code",
   "execution_count": 18,
   "id": "2cebc553",
   "metadata": {},
   "outputs": [
    {
     "name": "stdout",
     "output_type": "stream",
     "text": [
      "No hay agua suficiente para 5 astronautas después de 2 dias\n"
     ]
    }
   ],
   "source": [
    "try:\n",
    "    agua_restante(5, 100, 2)\n",
    "    \n",
    "except RuntimeError as error: \n",
    "    \n",
    "    print (error)   "
   ]
  }
 ],
 "metadata": {
  "kernelspec": {
   "display_name": "Python 3 (ipykernel)",
   "language": "python",
   "name": "python3"
  },
  "language_info": {
   "codemirror_mode": {
    "name": "ipython",
    "version": 3
   },
   "file_extension": ".py",
   "mimetype": "text/x-python",
   "name": "python",
   "nbconvert_exporter": "python",
   "pygments_lexer": "ipython3",
   "version": "3.10.2"
  }
 },
 "nbformat": 4,
 "nbformat_minor": 5
}
