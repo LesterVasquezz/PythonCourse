{
 "cells": [
  {
   "cell_type": "markdown",
   "id": "2097ae2b",
   "metadata": {},
   "source": [
    "# Ejercicio - crear un paquete "
   ]
  },
  {
   "cell_type": "markdown",
   "id": "8a0550f9",
   "metadata": {},
   "source": [
    "### Ceamos el entorno desde nuestra consola\n",
    "\n",
    "Utilizamos el comando **python3 -m venv entorno** \n",
    "<br>\n",
    "<br>\n",
    "![](img/venv1.png)\n",
    "<br>\n",
    "- El comando no devuelve una salida, pero se crea un carpeta con el nombre de nuestro entorno \n",
    "<br>\n",
    "\n",
    "Activamos el entorno con el comando **source entorno/bin/activate**\n",
    "<br>\n",
    "<br>\n",
    "![](img/venv2.png)\n",
    "<br>\n",
    "- Podemos observar que en el inicio del prompt se encuentra el nombre de nuestro entorno, lo cual nos indica que se activó correctamente"
   ]
  },
  {
   "cell_type": "markdown",
   "id": "8384c7e2",
   "metadata": {},
   "source": [
    "# Instalar una biblioteca \n",
    "\n",
    "1. Hacemos un listado de las librerias instaladas en el entorno.\n",
    "\n",
    "![](img/venv3.png)\n",
    "\n",
    "- No obtenemos salida porque el entorno esta vacio, es decir, no tenemos librerias instaladas \n",
    "<br>\n",
    "<br>\n",
    "\n",
    "2. Instalamos una libreria el comando **pip install python-dateutil**\n",
    "\n",
    "![](img/venv4.png)\n",
    "\n",
    "- Observamos que se descarga y finaliza la instalación con éxito\n",
    "<br>\n",
    "<br>\n",
    "\n",
    "3. Volvemos a utilizar el comando **pip freeze** para obtener el listado de librerias instaladas \n",
    "\n",
    "![](img/venv5.png)\n",
    "\n",
    "- Ahora nos devuelve una lista con el nombre y versión de las librerias instaladas "
   ]
  },
  {
   "cell_type": "markdown",
   "id": "974d7e9f",
   "metadata": {},
   "source": [
    "# Desactivamos el entorno virtual \n",
    "\n",
    "\n",
    "Para desactivar el entorno virtual se utiliza el comando **deactivate**\n",
    "\n",
    "![](img/venv6.png)\n",
    "\n",
    "- Vemos que el nombre del entorno desaparece del prompt "
   ]
  }
 ],
 "metadata": {
  "kernelspec": {
   "display_name": "Python 3 (ipykernel)",
   "language": "python",
   "name": "python3"
  },
  "language_info": {
   "codemirror_mode": {
    "name": "ipython",
    "version": 3
   },
   "file_extension": ".py",
   "mimetype": "text/x-python",
   "name": "python",
   "nbconvert_exporter": "python",
   "pygments_lexer": "ipython3",
   "version": "3.10.2"
  }
 },
 "nbformat": 4,
 "nbformat_minor": 5
}
