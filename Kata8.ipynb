{
 "cells": [
  {
   "cell_type": "markdown",
   "id": "83e66f3b",
   "metadata": {},
   "source": [
    "# Ejercicio 1: Creacion de diccionarios en Python \n",
    "\n",
    "### Ejercicio: Crear y modificar un diccionario de Python"
   ]
  },
  {
   "cell_type": "markdown",
   "id": "19f04425",
   "metadata": {},
   "source": [
    "1. Se creará un diccionario con información sobre el planeta Marte.\n",
    "\n",
    "``` \n",
    "Información\n",
    "    name:Marte\n",
    "    moons:2\n",
    "```"
   ]
  },
  {
   "cell_type": "code",
   "execution_count": 7,
   "id": "d144bed1",
   "metadata": {},
   "outputs": [],
   "source": [
    "#creamos diccionario \n",
    "\n",
    "planeta = {'nombre':\"Marte\", 'lunas':2 }"
   ]
  },
  {
   "cell_type": "markdown",
   "id": "da68083d",
   "metadata": {},
   "source": [
    "2. Mostramos el nombre del planeta y el número de lunas"
   ]
  },
  {
   "cell_type": "code",
   "execution_count": 8,
   "id": "59d30e18",
   "metadata": {},
   "outputs": [
    {
     "name": "stdout",
     "output_type": "stream",
     "text": [
      "El planeta Marte tiene 2 lunas\n"
     ]
    }
   ],
   "source": [
    "print(f'El planeta {planeta.get(\"nombre\")} tiene {planeta[\"lunas\"]} lunas')"
   ]
  },
  {
   "cell_type": "markdown",
   "id": "7ac65ea7",
   "metadata": {},
   "source": [
    "3. Con la siguiente información agregamos otro diccionario al diccionario existente\n",
    "\n",
    "``` \n",
    "circunferencia(km) \n",
    "        polar:5752\n",
    "        equatorial:6792\n",
    "```"
   ]
  },
  {
   "cell_type": "code",
   "execution_count": 9,
   "id": "7c9a9b4d",
   "metadata": {},
   "outputs": [],
   "source": [
    "#utilizamos corchetes\n",
    "\n",
    "planeta[\"circunferencia(km)\"]={\n",
    "    'polar' : 5752,\n",
    "    'equatorial' : 6792\n",
    "}"
   ]
  },
  {
   "cell_type": "markdown",
   "id": "bcafd670",
   "metadata": {},
   "source": [
    "4. Imprimimos el nombre del planeta y su circunferencia polar "
   ]
  },
  {
   "cell_type": "code",
   "execution_count": 11,
   "id": "1c1ec253",
   "metadata": {},
   "outputs": [
    {
     "name": "stdout",
     "output_type": "stream",
     "text": [
      "El planeta Marte tiene una circunferencia polar \n",
      "de 5752 km\n"
     ]
    }
   ],
   "source": [
    "print(f\"\"\"El planeta {planeta.get(\"nombre\")} tiene una circunferencia polar \n",
    "de {planeta[\"circunferencia(km)\"]['polar']} km\"\"\")"
   ]
  },
  {
   "cell_type": "markdown",
   "id": "c1f011f7",
   "metadata": {},
   "source": [
    "# Ejercicio 2: Programación dinámica con diccionarios \n",
    "\n",
    "### Ejercicio: Cálculo de valores \n",
    "\n",
    "1. Utilizaremos el siguiente diccionario"
   ]
  },
  {
   "cell_type": "code",
   "execution_count": 15,
   "id": "4ab4803b",
   "metadata": {},
   "outputs": [],
   "source": [
    "# Planets and moons\n",
    "\n",
    "planet_moons = {\n",
    "    'mercury': 0,\n",
    "    'venus': 0,\n",
    "    'earth': 1,\n",
    "    'mars': 2,\n",
    "    'jupiter': 79,\n",
    "    'saturn': 82,\n",
    "    'uranus': 27,\n",
    "    'neptune': 14,\n",
    "    'pluto': 5,\n",
    "    'haumea': 2,\n",
    "    'makemake': 1,\n",
    "    'eris': 1\n",
    "}"
   ]
  },
  {
   "cell_type": "markdown",
   "id": "cc3eabd4",
   "metadata": {},
   "source": [
    "2. Obtenemos los valores de las lunas y el número de planetas "
   ]
  },
  {
   "cell_type": "code",
   "execution_count": 16,
   "id": "34c92ac4",
   "metadata": {},
   "outputs": [],
   "source": [
    "#almacenamos valores en una variable \n",
    "\n",
    "lunas = planet_moons.values()\n",
    "\n",
    "numPlanetas = len(planet_moons.keys())\n"
   ]
  },
  {
   "cell_type": "markdown",
   "id": "a0d6aaeb",
   "metadata": {},
   "source": [
    "3. Ahora obtenemos el promedio y la cantidad de lunas "
   ]
  },
  {
   "cell_type": "code",
   "execution_count": 17,
   "id": "7b8a23fd",
   "metadata": {},
   "outputs": [
    {
     "name": "stdout",
     "output_type": "stream",
     "text": [
      "El número de lunas es 214, y el promedio de lunas es 17.833333333333332\n"
     ]
    }
   ],
   "source": [
    "total_lunas = 0\n",
    "\n",
    "for i in lunas:\n",
    "    total_lunas += i \n",
    "\n",
    "promedioLunas = total_lunas / numPlanetas\n",
    "\n",
    "print (f'El número de lunas es {total_lunas}, y el promedio de lunas es {promedioLunas}')"
   ]
  }
 ],
 "metadata": {
  "kernelspec": {
   "display_name": "Python 3 (ipykernel)",
   "language": "python",
   "name": "python3"
  },
  "language_info": {
   "codemirror_mode": {
    "name": "ipython",
    "version": 3
   },
   "file_extension": ".py",
   "mimetype": "text/x-python",
   "name": "python",
   "nbconvert_exporter": "python",
   "pygments_lexer": "ipython3",
   "version": "3.10.2"
  }
 },
 "nbformat": 4,
 "nbformat_minor": 5
}
