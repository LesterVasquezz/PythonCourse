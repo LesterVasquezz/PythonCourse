{
 "cells": [
  {
   "cell_type": "markdown",
   "id": "123cc58e",
   "metadata": {},
   "source": [
    "# Ejercicio escribir declaraciones if, else, elif "
   ]
  },
  {
   "cell_type": "markdown",
   "id": "34ff0c3e",
   "metadata": {},
   "source": [
    "En el siguiente ejemplo se utilizarán las sentencias if, else y elif "
   ]
  },
  {
   "cell_type": "code",
   "execution_count": 43,
   "id": "33241a0f",
   "metadata": {},
   "outputs": [
    {
     "name": "stdout",
     "output_type": "stream",
     "text": [
      "leticia es la mayor\n"
     ]
    }
   ],
   "source": [
    "#La siguiente ejemplo encontraremos al mayor de 3 hermanos a los cuales nombraremos Pedro, Pablo, Leticia\n",
    "\n",
    "pedro = 22\n",
    "\n",
    "pablo = 23\n",
    "\n",
    "leticia = 24 \n",
    "\n",
    "if pedro > pablo:                   #si pedro es mayor que pablo \n",
    "    if pedro > leticia:             #si pedro es mayor que leticia \n",
    "        print(\"pedro es el mayor\")\n",
    "    else:\n",
    "        print(\"leticia es la mayor\")#esto se debe a que pedro>pablo y pedro < leticia entonces leticia>pedro>pablo\n",
    "        \n",
    "elif pablo > leticia:               #si pedro no es mayor que pablo, entonces, si pablo es mayor que leticia\n",
    "    print(\"pablo es mayor\")\n",
    "else:\n",
    "    print(\"leticia es la mayor\")    #esto se debe a que pablo>pedro y pablo < leticia entonces leticia>pablo>pedro\n",
    "    \n",
    "    "
   ]
  },
  {
   "cell_type": "markdown",
   "id": "7d3a7c1a",
   "metadata": {},
   "source": [
    "1. El siguiente ejercicio emitira una advertencia si un asteroide se acerca demasiado rápido. La velocidad varia dependiendo de lo cerca que esté al sol, y cualquier velocidad superor a 25 km/s merece una advertencia.\n"
   ]
  },
  {
   "cell_type": "code",
   "execution_count": 44,
   "id": "7c2ddd4f",
   "metadata": {},
   "outputs": [
    {
     "name": "stdout",
     "output_type": "stream",
     "text": [
      "alerta! Un asteroide se acerca a gran velocidad \n"
     ]
    }
   ],
   "source": [
    "#Un asteroide se acerca, y viaja a una velocidad de 49 km/s.\n",
    "\n",
    "velAsteroide = 49 \n",
    "\n",
    "if velAsteroide > 25:\n",
    "    print(\"alerta! Un asteroide se acerca a gran velocidad \")\n",
    "else: \n",
    "    print(\"sin novedades\")\n"
   ]
  },
  {
   "cell_type": "markdown",
   "id": "c2132c76",
   "metadata": {},
   "source": [
    "2. Si un asteroide entra en la atmósfera de la Tierra a una velocidad mayor o igual a 20 km/s, a veces produce un rayo de luz que se puede ver desde la Tierra. Escribe la lógica condicional que usa declaraciones **if, else, y elif** para alertar a las personas de todo el mundo que deben buscar un asteroide en el cielo. ¡Hay uno que se dirige a la tierra ahora a una velocidad de 19 km/s!"
   ]
  },
  {
   "cell_type": "code",
   "execution_count": 45,
   "id": "0fcafbdb",
   "metadata": {},
   "outputs": [
    {
     "name": "stdout",
     "output_type": "stream",
     "text": [
      "Sin novedades\n"
     ]
    }
   ],
   "source": [
    "#Un asteroide se acerca, y viaja a una velocidad de 19 km/s.\n",
    "\n",
    "velAsteroide = 19\n",
    "\n",
    "if velAsteroide == 20:\n",
    "    print(\"Una luz se refleja en la tierra \")\n",
    "elif velAsteroide > 20: \n",
    "    print(\"Una luz se refleja en la tierra \")\n",
    "else: \n",
    "    print(\"Sin novedades\")"
   ]
  },
  {
   "cell_type": "markdown",
   "id": "5c18321f",
   "metadata": {},
   "source": [
    "# Ejercicio: Uso de operadores and y or"
   ]
  },
  {
   "cell_type": "markdown",
   "id": "1e09336c",
   "metadata": {},
   "source": [
    "**Datos a considerar**\n",
    "\n",
    "- Los asteroides de menos de 25 metros en su dimensión más grande probablemente se quemarán a medida que entren en la atmósfera de la Tierra.\n",
    "\n",
    "- Si una pieza de un asteroide que es más grande que 25 metros pero más pequeña que 1000 metros golpeara la Tierra, causaría mucho daño.\n",
    "\n",
    "También discutimos en el ejercicio anterior que:\n",
    "\n",
    "- La velocidad del asteroide varía en función de lo cerca que esté del sol, y cualquier velocidad superior a 25 kilómetros por segundo (km/s) merece una advertencia.\n",
    "- Si un asteroide entra en la atmósfera de la Tierra a una velocidad mayor o igual a 20 km/s, a veces produce un rayo de luz que se puede ver desde la Tierra.\n",
    "\n",
    "Usando toda esta información, escribe un programa que emita la advertencia o información correcta a la gente de la Tierra, según la velocidad y el tamaño de un asteroide. Utiliza instrucciones **if, else, y elif**, así como los operadores **and y or**."
   ]
  },
  {
   "cell_type": "code",
   "execution_count": 50,
   "id": "4336c4f6",
   "metadata": {},
   "outputs": [
    {
     "name": "stdout",
     "output_type": "stream",
     "text": [
      "Atencion!! un asteroide peligroso se acerca a la tierra\n",
      "La velocidad del asteroide es alta( 200 km/s)\n",
      "Una luz se refleja en la tierra \n"
     ]
    }
   ],
   "source": [
    "\n",
    "velAsteroide = 200\n",
    "\n",
    "sizeAsteroide =60\n",
    "\n",
    "\n",
    "if sizeAsteroide >= 25:\n",
    "    if velAsteroide >= 20 and velAsteroide < 25:\n",
    "        print (\"Atencion!! un asteroide peligroso se acerca a la tierra\")\n",
    "        print(\"Una luz se refleja en la tierra \")\n",
    "    elif velAsteroide > 25 : \n",
    "        print (\"Atencion!! un asteroide peligroso se acerca a la tierra\")\n",
    "        print(\"La velocidad del asteroide es alta\" + \"(\",velAsteroide, \"km/s)\")\n",
    "        print(\"Una luz se refleja en la tierra \")\n",
    "    else:\n",
    "        print (\"Atencion!! un Gran asteroide a la vista\")\n",
    "        \n",
    "elif sizeAsteroide < 25:\n",
    "    if velAsteroide >= 20 and velAsteroide < 25:\n",
    "        print (\"Un asteroide pequeño se acerca\")\n",
    "        print(\"Una luz se refleja en la tierra \")\n",
    "    elif velAsteroide > 25 : \n",
    "        print (\"Un asteroide pequeño se acerca\")\n",
    "        print(\"La velocidad del asteroide es alta\" + \"(\",velAsteroide, \"km/s)\")\n",
    "        print(\"Una luz se refleja en la tierra \")\n",
    "    else: \n",
    "        print(\"sin novedades\")\n",
    "        \n",
    "\n",
    "\n"
   ]
  },
  {
   "cell_type": "code",
   "execution_count": null,
   "id": "22b8cee3",
   "metadata": {},
   "outputs": [],
   "source": []
  }
 ],
 "metadata": {
  "kernelspec": {
   "display_name": "Python 3 (ipykernel)",
   "language": "python",
   "name": "python3"
  },
  "language_info": {
   "codemirror_mode": {
    "name": "ipython",
    "version": 3
   },
   "file_extension": ".py",
   "mimetype": "text/x-python",
   "name": "python",
   "nbconvert_exporter": "python",
   "pygments_lexer": "ipython3",
   "version": "3.10.2"
  }
 },
 "nbformat": 4,
 "nbformat_minor": 5
}
