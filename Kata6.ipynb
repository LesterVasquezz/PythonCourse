{
 "cells": [
  {
   "cell_type": "markdown",
   "id": "8927bae6",
   "metadata": {},
   "source": [
    "# Ejercicio 1: Crear y usar listas de Python"
   ]
  },
  {
   "cell_type": "markdown",
   "id": "c7096a37",
   "metadata": {},
   "source": [
    "**Ejercicio: Usar listas para almacenar nombres de planetas**"
   ]
  },
  {
   "cell_type": "markdown",
   "id": "c4cb4c50",
   "metadata": {},
   "source": [
    "1. Creamos una variable denominada `planets`. Agregamos a los ochos planetas(sin Plutón)"
   ]
  },
  {
   "cell_type": "code",
   "execution_count": 31,
   "id": "945e40da",
   "metadata": {},
   "outputs": [],
   "source": [
    "#declaramos variable\n",
    "\n",
    "planetas = [\"Mercurio\", \"Venus\", \"Tierra\", \"Marte\", \"Júpiter\", \"Saturno\", \"Urano\", \"Neptuno\"]\n"
   ]
  },
  {
   "cell_type": "markdown",
   "id": "3718b457",
   "metadata": {},
   "source": [
    "2. Agregamos a Plutón, contamos el número de planetas e imprimimos el último planeta de la lista"
   ]
  },
  {
   "cell_type": "code",
   "execution_count": 32,
   "id": "6a212632",
   "metadata": {},
   "outputs": [
    {
     "name": "stdout",
     "output_type": "stream",
     "text": [
      "Cantidad de Planetas:  9\n",
      "Último planeta de la lista:  Plutón\n"
     ]
    }
   ],
   "source": [
    "planetas.append(\"Plutón\")\n",
    "\n",
    "print(\"Cantidad de Planetas: \",len(planetas))\n",
    "\n",
    "print(\"Último planeta de la lista: \",planetas[-1])\n"
   ]
  },
  {
   "cell_type": "markdown",
   "id": "ba9d488a",
   "metadata": {},
   "source": [
    "# Ejercicio 2: Trabajando con datos de una lista"
   ]
  },
  {
   "cell_type": "markdown",
   "id": "71d6831a",
   "metadata": {},
   "source": [
    "**Usar slices para recuperar partes de una lista**\n"
   ]
  },
  {
   "cell_type": "markdown",
   "id": "25e93302",
   "metadata": {},
   "source": [
    "1. Comenzamos agregando el código para crear una lista con los planetas "
   ]
  },
  {
   "cell_type": "code",
   "execution_count": 33,
   "id": "b5d03c44",
   "metadata": {},
   "outputs": [],
   "source": [
    "# Lista de planetas\n",
    "planetas = [\"Mercurio\", \"Venus\", \"Tierra\", \"Marte\", \"Jupiter\", \"Saturno\", \"Urano\", \"Neptuno\"]\n"
   ]
  },
  {
   "cell_type": "markdown",
   "id": "0b8f08a2",
   "metadata": {},
   "source": [
    "2. Solicitaremos al usuario el nombre de un planeta"
   ]
  },
  {
   "cell_type": "code",
   "execution_count": 34,
   "id": "36a32cb6",
   "metadata": {},
   "outputs": [
    {
     "name": "stdout",
     "output_type": "stream",
     "text": [
      "Ingresa el nombre de un planeta, recuerda comenzar con Mayúscula: Tierra\n"
     ]
    }
   ],
   "source": [
    "#Declaramos variable de entrada\n",
    "entrada = input(\"Ingresa el nombre de un planeta, recuerda comenzar con Mayúscula: \")\n"
   ]
  },
  {
   "cell_type": "markdown",
   "id": "e158eeb5",
   "metadata": {},
   "source": [
    "3. Buscamo el planeta en la lista e imprimimos su posición "
   ]
  },
  {
   "cell_type": "code",
   "execution_count": 35,
   "id": "c0891405",
   "metadata": {},
   "outputs": [
    {
     "name": "stdout",
     "output_type": "stream",
     "text": [
      "La posicion del planeta Tierra es: 3\n"
     ]
    }
   ],
   "source": [
    "\n",
    "#ponemos un if para validar que la entrada este bien escrita \n",
    "\n",
    "if entrada in planetas:\n",
    "    posicion = planetas.index(entrada)  #buscamos planeta en la lista \n",
    "    print(f'La posicion del planeta {entrada} es: {posicion + 1}')\n",
    "else: \n",
    "    print (\"Error, entrada no válida\")\n",
    "    "
   ]
  },
  {
   "cell_type": "markdown",
   "id": "21447b2b",
   "metadata": {},
   "source": [
    "3. Mostramos el nombre de los planetas más cercanos al sol que el que el usuario ingresó "
   ]
  },
  {
   "cell_type": "code",
   "execution_count": 36,
   "id": "c6958e8d",
   "metadata": {},
   "outputs": [
    {
     "name": "stdout",
     "output_type": "stream",
     "text": [
      "Planetas mas cercanos antes que el planeta Tierra: ['Mercurio', 'Venus']\n"
     ]
    }
   ],
   "source": [
    "#Una vez que tenemos la posición del planeta podemos utilizar este número para establecer los limites \n",
    "\n",
    "print(f'Planetas mas cercanos antes que el planeta {entrada}: {planetas[:posicion]}' )"
   ]
  },
  {
   "cell_type": "markdown",
   "id": "9478a9f8",
   "metadata": {},
   "source": [
    "4. Mostramos el nombre de los planetas más alejados al sol que el que el usuario ingresó "
   ]
  },
  {
   "cell_type": "code",
   "execution_count": 37,
   "id": "b4818638",
   "metadata": {},
   "outputs": [
    {
     "name": "stdout",
     "output_type": "stream",
     "text": [
      "Planetas mas cercanos antes que el planeta Tierra: ['Marte', 'Jupiter', 'Saturno', 'Urano', 'Neptuno']\n"
     ]
    }
   ],
   "source": [
    "#Una vez que tenemos la posición del planeta podemos utilizar este número para establecer los limites \n",
    "\n",
    "print(f'Planetas mas cercanos antes que el planeta {entrada}: {planetas[posicion + 1:]}' )"
   ]
  }
 ],
 "metadata": {
  "kernelspec": {
   "display_name": "Python 3 (ipykernel)",
   "language": "python",
   "name": "python3"
  },
  "language_info": {
   "codemirror_mode": {
    "name": "ipython",
    "version": 3
   },
   "file_extension": ".py",
   "mimetype": "text/x-python",
   "name": "python",
   "nbconvert_exporter": "python",
   "pygments_lexer": "ipython3",
   "version": "3.10.2"
  }
 },
 "nbformat": 4,
 "nbformat_minor": 5
}
