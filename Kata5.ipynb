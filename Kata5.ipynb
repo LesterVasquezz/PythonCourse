{
 "cells": [
  {
   "cell_type": "markdown",
   "id": "e0745061",
   "metadata": {},
   "source": [
    "# Ejercicio 1 - utilizar operadores aritméticos "
   ]
  },
  {
   "cell_type": "markdown",
   "id": "853bb63f",
   "metadata": {},
   "source": [
    "Exploremos cómo podemos crear un programa que pueda calcular la distancia entre dos planetas. Comenzaremos usando dos distancias de planetas: Tierra (149.597.870 km) y Júpiter (778.547.200 km)."
   ]
  },
  {
   "cell_type": "markdown",
   "id": "2bf343cb",
   "metadata": {},
   "source": [
    "1. Primero declaramos las variables con sus respectivos valores"
   ]
  },
  {
   "cell_type": "code",
   "execution_count": 14,
   "id": "14b56bd7",
   "metadata": {},
   "outputs": [],
   "source": [
    "#declaramos variables \n",
    "\n",
    "disTierra = 149597870\n",
    "disJupiter = 778547200 \n"
   ]
  },
  {
   "cell_type": "markdown",
   "id": "41084075",
   "metadata": {},
   "source": [
    "2. Calculamos la distancia en km y la distancia en millas (km*0.621)"
   ]
  },
  {
   "cell_type": "code",
   "execution_count": 15,
   "id": "ed7177d3",
   "metadata": {},
   "outputs": [
    {
     "name": "stdout",
     "output_type": "stream",
     "text": [
      "Distancia en KM:  628949330\n",
      "Distancia en Millas:  390577534\n"
     ]
    }
   ],
   "source": [
    "distanciaKm = abs(disTierra - disJupiter)\n",
    "\n",
    "distanciaM = round(abs(disTierra - disJupiter) * 0.621)\n",
    "\n",
    "print(\"Distancia en KM: \",distanciaKm)\n",
    "print(\"Distancia en Millas: \", distanciaM)"
   ]
  },
  {
   "cell_type": "markdown",
   "id": "66f40bf0",
   "metadata": {},
   "source": [
    "# Ejercicio 2: Convierte cadenas en números y usa valores absolutos "
   ]
  },
  {
   "cell_type": "markdown",
   "id": "8dc4e456",
   "metadata": {},
   "source": [
    "### Crear una aplicación para trabajar con números y entrada de usuario "
   ]
  },
  {
   "cell_type": "markdown",
   "id": "134a5f41",
   "metadata": {},
   "source": [
    "1. Usamos el `input` para leer la distancia al sol para cada planeta, considerando 2 planetas."
   ]
  },
  {
   "cell_type": "code",
   "execution_count": 16,
   "id": "fea1319e",
   "metadata": {},
   "outputs": [
    {
     "name": "stdout",
     "output_type": "stream",
     "text": [
      "Ingresa la distancia del planeta 1: 57900000\n",
      "Ingresa la distancia del planeta 2: 108200000\n"
     ]
    }
   ],
   "source": [
    "# Definimos variable \n",
    "\n",
    "entrada1 = input(\"Ingresa la distancia del planeta 1: \")\n",
    "\n",
    "entrada2 = input(\"Ingresa la distancia del planeta 2: \")\n"
   ]
  },
  {
   "cell_type": "markdown",
   "id": "3e5be48a",
   "metadata": {},
   "source": [
    "2. Ahora cambiamos al tipo de dato `int`"
   ]
  },
  {
   "cell_type": "code",
   "execution_count": 17,
   "id": "81417660",
   "metadata": {},
   "outputs": [],
   "source": [
    "#Casteamos \n",
    "\n",
    "planeta1 = int(entrada1)\n",
    "planeta2 = int(entrada2)\n"
   ]
  },
  {
   "cell_type": "markdown",
   "id": "5b299174",
   "metadata": {},
   "source": [
    "3. Realizamos los cálculos y convertimos a valor absoluto"
   ]
  },
  {
   "cell_type": "code",
   "execution_count": 18,
   "id": "318cb998",
   "metadata": {},
   "outputs": [
    {
     "name": "stdout",
     "output_type": "stream",
     "text": [
      "Distancia en KM:  50300000\n",
      "Distancia en Millas:  31236300\n"
     ]
    }
   ],
   "source": [
    "#calculamos\n",
    "\n",
    "disKM = abs(planeta1 - planeta2)\n",
    "\n",
    "disMillas = round(abs(planeta1 - planeta2) * 0.621)\n",
    "\n",
    "print(\"Distancia en KM: \",disKM)\n",
    "print(\"Distancia en Millas: \", disMillas)\n"
   ]
  }
 ],
 "metadata": {
  "kernelspec": {
   "display_name": "Python 3 (ipykernel)",
   "language": "python",
   "name": "python3"
  },
  "language_info": {
   "codemirror_mode": {
    "name": "ipython",
    "version": 3
   },
   "file_extension": ".py",
   "mimetype": "text/x-python",
   "name": "python",
   "nbconvert_exporter": "python",
   "pygments_lexer": "ipython3",
   "version": "3.10.2"
  }
 },
 "nbformat": 4,
 "nbformat_minor": 5
}
