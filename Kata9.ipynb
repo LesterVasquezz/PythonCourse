{
 "cells": [
  {
   "cell_type": "markdown",
   "id": "40acdded",
   "metadata": {},
   "source": [
    "# Ejercicio: Uso de funciones de Python \n",
    "\n",
    "\n",
    "1. En este ejercicio se construirá un informe de combustible que requiere información de varias ubicaciones de combustible en todo el cohete. "
   ]
  },
  {
   "cell_type": "code",
   "execution_count": 3,
   "id": "61535f95",
   "metadata": {},
   "outputs": [],
   "source": [
    "#definimos función \n",
    "\n",
    "def gasTanque(lectura1, lectura2, lectura3):\n",
    "    promedio = (lectura1 + lectura2 + lectura3) / 3\n",
    "    return promedio"
   ]
  },
  {
   "cell_type": "markdown",
   "id": "de505430",
   "metadata": {},
   "source": [
    "2. Ahora que hemos definido la función, la ponemos a prueba"
   ]
  },
  {
   "cell_type": "code",
   "execution_count": 4,
   "id": "25278522",
   "metadata": {},
   "outputs": [
    {
     "name": "stdout",
     "output_type": "stream",
     "text": [
      "El promedio de combustible es: 56.0\n"
     ]
    }
   ],
   "source": [
    "print(f'El promedio de combustible es: {gasTanque(30, 60, 78)}')"
   ]
  },
  {
   "cell_type": "markdown",
   "id": "16bdd21f",
   "metadata": {},
   "source": [
    "3. Extraemos el cálculo del promedio de la función anterior y creamos una función especifica para ello "
   ]
  },
  {
   "cell_type": "code",
   "execution_count": 7,
   "id": "525da98d",
   "metadata": {},
   "outputs": [],
   "source": [
    "# declaramos una función promedio que recibe la suma y el número de tanques \n",
    "\n",
    "def promedio(suma, numTanque):\n",
    "    prom = suma / numTanque\n",
    "    \n",
    "    return prom"
   ]
  },
  {
   "cell_type": "markdown",
   "id": "4367e7dc",
   "metadata": {},
   "source": [
    "4. Ahora editamos la función de informes para el llamado de la funcion promedio "
   ]
  },
  {
   "cell_type": "code",
   "execution_count": 8,
   "id": "d39cbd2b",
   "metadata": {},
   "outputs": [
    {
     "name": "stdout",
     "output_type": "stream",
     "text": [
      "El promedio de combustible es: 56.0\n"
     ]
    }
   ],
   "source": [
    "def gasTanque(lectura1, lectura2, lectura3):\n",
    "    suma = lectura1 + lectura2 + lectura3\n",
    "    \n",
    "    resultado = promedio(suma, 3)\n",
    "    return resultado\n",
    "\n",
    "\n",
    "print(f'El promedio de combustible es: {gasTanque(30, 60, 78)}')"
   ]
  },
  {
   "cell_type": "markdown",
   "id": "32649d06",
   "metadata": {},
   "source": [
    "#  Ejercicio 2: Trabajo con argumentos de palabra clave \n",
    "\n",
    "### Ejercicio: Trabajar con argumentos de palabra clave en funciones \n",
    "\n",
    "1. Creamos una funcion que devuelve un informe preciso de la misión"
   ]
  },
  {
   "cell_type": "code",
   "execution_count": 18,
   "id": "3bcef966",
   "metadata": {},
   "outputs": [
    {
     "name": "stdout",
     "output_type": "stream",
     "text": [
      "    Prelanzamiento:13:00 Tiempo estimado a destino: 51 hrs\n",
      "    Destino: Moon %Tanque interno: 98 %Tanque externo:99\n"
     ]
    }
   ],
   "source": [
    "# declaramos función \n",
    "\n",
    "def reporte(preLanzamiento,tiempoDestino, destino, tanque_ext, tanque_int):\n",
    "    rep = f\"\"\"    Prelanzamiento:{preLanzamiento} Tiempo estimado a destino: {tiempoDestino} hrs\n",
    "    Destino: {destino} %Tanque interno: {tanque_int} %Tanque externo:{tanque_ext}\"\"\"\n",
    "    \n",
    "    return rep \n",
    "print (reporte('13:00',51,'Moon',99,98))"
   ]
  },
  {
   "cell_type": "markdown",
   "id": "46703d46",
   "metadata": {},
   "source": [
    "2. Hacemos ajustes para que la función pueda recibir varias entradas de tiempo y diferentes descripciones de tanques"
   ]
  },
  {
   "cell_type": "code",
   "execution_count": 21,
   "id": "034f8a05",
   "metadata": {},
   "outputs": [
    {
     "name": "stdout",
     "output_type": "stream",
     "text": [
      "    Prelanzamiento:13:00 Tiempo estimado a destino: 19 hrs\n",
      "    Destino: Namek Nivel de Tanques: 77\n"
     ]
    }
   ],
   "source": [
    "# declaramos función \n",
    "\n",
    "def reporte(preLanzamiento,destino,*tiempos, **tanques):\n",
    "    rep = f\"\"\"    Prelanzamiento:{preLanzamiento} Tiempo estimado a destino: {sum(tiempos)} hrs\n",
    "    Destino: {destino} Nivel de Tanques: {sum(tanques.values())}\"\"\"\n",
    "    \n",
    "    return rep \n",
    "print (reporte('13:00','Namek',12,1,2,4, tanque1 = 33, tanque3 = 44))"
   ]
  },
  {
   "cell_type": "markdown",
   "id": "200093f5",
   "metadata": {},
   "source": [
    "3. Editamos la función para que  imprima el nivel de cada tanque por separado \n"
   ]
  },
  {
   "cell_type": "code",
   "execution_count": 26,
   "id": "eb44ac9a",
   "metadata": {},
   "outputs": [
    {
     "name": "stdout",
     "output_type": "stream",
     "text": [
      "    Prelanzamiento:13:00 Tiempo estimado a destino: 19 hrs\n",
      "    Destino: Namek\n",
      "    tanque1: 33\n",
      "    tanque3: 44\n"
     ]
    }
   ],
   "source": [
    "# declaramos función \n",
    "\n",
    "def reporte(preLanzamiento,destino,*tiempos, **tanques):\n",
    "    rep = f\"\"\"    Prelanzamiento:{preLanzamiento} Tiempo estimado a destino: {sum(tiempos)} hrs\n",
    "    Destino: {destino}\"\"\"\n",
    "    for item in tanques:\n",
    "        rep = rep + f'\\n    {item}: {tanques.get(item)}'\n",
    "        \n",
    "    \n",
    "    return rep \n",
    "print (reporte('13:00','Namek',12,1,2,4, tanque1 = 33, tanque3 = 44))"
   ]
  }
 ],
 "metadata": {
  "kernelspec": {
   "display_name": "Python 3 (ipykernel)",
   "language": "python",
   "name": "python3"
  },
  "language_info": {
   "codemirror_mode": {
    "name": "ipython",
    "version": 3
   },
   "file_extension": ".py",
   "mimetype": "text/x-python",
   "name": "python",
   "nbconvert_exporter": "python",
   "pygments_lexer": "ipython3",
   "version": "3.10.2"
  }
 },
 "nbformat": 4,
 "nbformat_minor": 5
}
