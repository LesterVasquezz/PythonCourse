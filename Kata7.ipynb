{
 "cells": [
  {
   "cell_type": "markdown",
   "id": "62003776",
   "metadata": {},
   "source": [
    "# Ejercicio 1: Creación de un bucle \"while\" "
   ]
  },
  {
   "cell_type": "markdown",
   "id": "bcb8a1ac",
   "metadata": {},
   "source": [
    "### Ejercicio 1: Uso de ciclos `while` en Python\n",
    "\n",
    "En este ejercicio, se creará una aplicacón que solicita a un usuario que ingrese una lista de planetas."
   ]
  },
  {
   "cell_type": "markdown",
   "id": "279518cd",
   "metadata": {},
   "source": [
    "1. Agregamos dos variables, una entrada del usuario, con el nombre `nuevo_planeta`, y otra variable para la lista de planetas denomidada `planetas`"
   ]
  },
  {
   "cell_type": "code",
   "execution_count": 45,
   "id": "4e9c48ff",
   "metadata": {},
   "outputs": [],
   "source": [
    "#Declaración \n",
    "\n",
    "nuevo_planeta = ''\n",
    "\n",
    "planetas = []\n"
   ]
  },
  {
   "cell_type": "markdown",
   "id": "30ffa0c7",
   "metadata": {},
   "source": [
    "### Crea un ciclo `while`\n",
    "\n",
    "2. Utilizando las variables declaradas anteriormente, creamos un ciclo `while`. El ciclo `while` se ejecutará mientras `nuevo_planeta` no sea igual a la palabra \\`done\\`.\n",
    "\n",
    "Dentro del ciclo, comprobamos si la variable `nuevo_planeta` contiene un valor, que deberia ser el nombre de un planeta. Esta es una forma rapida de ver si el usuario ha introducido un valor. Si lo han hecho, el código agregará ( `append` ) ese valora la variable `planetas`\n",
    "\n",
    "Finalmente, se usará `input` para solicitar un nuevo nombre de planeta o que escriba **done** si ha terminado de ingresar nombres de planetas. Se almacenará el valor de `input` en la variable `nuevo_planeta`"
   ]
  },
  {
   "cell_type": "code",
   "execution_count": 46,
   "id": "007baba0",
   "metadata": {},
   "outputs": [
    {
     "name": "stdout",
     "output_type": "stream",
     "text": [
      "Ingresa el nombre de un planeta (inicia con mayúsculas): Venus\n",
      "Ingresa el nombre de un planeta (inicia con mayúsculas): Tierra\n",
      "Ingresa el nombre de un planeta (inicia con mayúsculas): Marte\n",
      "Ingresa el nombre de un planeta (inicia con mayúsculas): done\n"
     ]
    }
   ],
   "source": [
    "while nuevo_planeta.lower() != \"done\":   \n",
    "\n",
    "    if \" \" in nuevo_planeta: #validamos espacios en blanco\n",
    "        print(\"No se permiten espacios en blanco \")\n",
    "    elif len(nuevo_planeta) > 0: \n",
    "        planetas.append(nuevo_planeta)\n",
    "        \n",
    "    nuevo_planeta = input(\"Ingresa el nombre de un planeta (inicia con mayúsculas): \")\n",
    "        \n",
    "    \n",
    "    \n",
    "        "
   ]
  },
  {
   "cell_type": "markdown",
   "id": "7c5be4c7",
   "metadata": {},
   "source": [
    "# Ejercicio 2: Creacion de un ciclo `for`"
   ]
  },
  {
   "cell_type": "markdown",
   "id": "f32145fb",
   "metadata": {},
   "source": [
    "### Mostrar la lista de los planetas \n",
    "\n",
    "1. Creamos un ciclo `for` para iterar sobre la lista `planetas`."
   ]
  },
  {
   "cell_type": "code",
   "execution_count": 47,
   "id": "cc3027c1",
   "metadata": {},
   "outputs": [
    {
     "name": "stdout",
     "output_type": "stream",
     "text": [
      "Venus\n",
      "Tierra\n",
      "Marte\n"
     ]
    }
   ],
   "source": [
    "for planeta in planetas:\n",
    "    print(planeta)"
   ]
  }
 ],
 "metadata": {
  "kernelspec": {
   "display_name": "Python 3 (ipykernel)",
   "language": "python",
   "name": "python3"
  },
  "language_info": {
   "codemirror_mode": {
    "name": "ipython",
    "version": 3
   },
   "file_extension": ".py",
   "mimetype": "text/x-python",
   "name": "python",
   "nbconvert_exporter": "python",
   "pygments_lexer": "ipython3",
   "version": "3.10.2"
  }
 },
 "nbformat": 4,
 "nbformat_minor": 5
}
